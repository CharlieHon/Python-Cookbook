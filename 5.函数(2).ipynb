{
 "cells": [
  {
   "cell_type": "markdown",
   "metadata": {},
   "source": [
    "## 7.7 在匿名函数中绑定变量的值\n",
    "### 7.7.1 问题\n",
    "利用`lambda`表达式定义了一个匿名函数，但是也希望可以在函数定义的时候完成对特殊变量的绑定。\n",
    "### 7.7.2 解决方案\n",
    "考虑下列代码的行为，这里的问题在于`lambda`表达式中用到的x是一个自由变量，在运行时才进行绑定而不是定义的时候绑定，因此，`lambda`表达式中x的值应该在执行时确定的，执行时x的值是多少就是多少。"
   ]
  },
  {
   "cell_type": "code",
   "execution_count": 2,
   "metadata": {},
   "outputs": [],
   "source": [
    "x = 10\n",
    "a = lambda y: x + y\n",
    "x = 20\n",
    "b = lambda y: x + y"
   ]
  },
  {
   "cell_type": "code",
   "execution_count": 3,
   "metadata": {},
   "outputs": [
    {
     "name": "stdout",
     "output_type": "stream",
     "text": [
      "30\n",
      "30\n"
     ]
    }
   ],
   "source": [
    "print(a(10))   # 30\n",
    "print(b(10))   # 30"
   ]
  },
  {
   "cell_type": "code",
   "execution_count": 4,
   "metadata": {},
   "outputs": [
    {
     "name": "stdout",
     "output_type": "stream",
     "text": [
      "25\n",
      "13\n"
     ]
    }
   ],
   "source": [
    "x = 15\n",
    "print(a(10))    # 25\n",
    "x = 3\n",
    "print(a(10))    # 13"
   ]
  },
  {
   "cell_type": "markdown",
   "metadata": {},
   "source": [
    "如果希望匿名函数可以在定义的时候绑定变量，并保持值不变，可以将那个值作为默认参数实现。"
   ]
  },
  {
   "cell_type": "code",
   "execution_count": 5,
   "metadata": {},
   "outputs": [],
   "source": [
    "x = 10\n",
    "a = lambda y, x=x: x + y\n",
    "x = 20\n",
    "b = lambda y, x=x: x + y"
   ]
  },
  {
   "cell_type": "code",
   "execution_count": 6,
   "metadata": {},
   "outputs": [
    {
     "name": "stdout",
     "output_type": "stream",
     "text": [
      "20\n",
      "30\n"
     ]
    }
   ],
   "source": [
    "print(a(10))   # 20\n",
    "print(b(10))   # 30"
   ]
  },
  {
   "cell_type": "markdown",
   "metadata": {},
   "source": [
    "### 7.7.3 讨论\n",
    "本节提到的问题一般比较容易出现在那些对`lambda`函数过于“聪明”的应用上。比方说，通过列表推导式创建一列`lambda`表达式，或者在一个循环中期望`lambda`表达式能够在定义的时候记住迭代变量。示例如下："
   ]
  },
  {
   "cell_type": "code",
   "execution_count": 7,
   "metadata": {},
   "outputs": [
    {
     "name": "stdout",
     "output_type": "stream",
     "text": [
      "4\n",
      "4\n",
      "4\n",
      "4\n",
      "4\n"
     ]
    }
   ],
   "source": [
    "func = [lambda x: x+n for n in range(5)]\n",
    "for f in func:      # 运行时n最后的值为4，所以调用f(0)时值均为4\n",
    "    print(f(0))"
   ]
  },
  {
   "cell_type": "markdown",
   "metadata": {},
   "source": [
    "注意到所有的函数都认为n的值为4，也就是迭代中的最后一个值。和下面的代码做下对比，可以看到，现在函数可以在定义的时候捕获到n的值了。"
   ]
  },
  {
   "cell_type": "code",
   "execution_count": 8,
   "metadata": {},
   "outputs": [
    {
     "name": "stdout",
     "output_type": "stream",
     "text": [
      "0\n",
      "1\n",
      "2\n",
      "3\n",
      "4\n"
     ]
    }
   ],
   "source": [
    "funcs = [lambda x, n=n: x+n for n in range(5)]\n",
    "for f in funcs:\n",
    "    print(f(0))"
   ]
  },
  {
   "cell_type": "markdown",
   "metadata": {},
   "source": [
    "## 7.8 让带有N个参数的可调用对象以较少的参数形式调用\n",
    "### 7.8.1 问题\n",
    "有一个可调用对象可能会以回调函数的形式同其他的Python代码交互。但是这个可调用对象需要的参数过多，如果直接调用的话会产生异常。\n",
    "### 7.8.2 解决方案\n",
    "如果需要减少函数的参数数量，应该使用`functools.partial()`。函数`partial()`允许我们给一个或多个参数指定固定的值，以此减少需要提供给之后调用的参数数量。为了说明这个过程，假设有这么一个函数："
   ]
  },
  {
   "cell_type": "code",
   "execution_count": 9,
   "metadata": {},
   "outputs": [
    {
     "name": "stdout",
     "output_type": "stream",
     "text": [
      "1 2 3 4\n"
     ]
    }
   ],
   "source": [
    "def spam(a, b, c, d):\n",
    "    print(a, b, c, d)\n",
    "\n",
    "from functools import partial\n",
    "s1 = partial(spam, 1)   # a = 1\n",
    "s1(2, 3, 4)"
   ]
  },
  {
   "cell_type": "code",
   "execution_count": 10,
   "metadata": {},
   "outputs": [
    {
     "name": "stdout",
     "output_type": "stream",
     "text": [
      "1 2 3 42\n"
     ]
    }
   ],
   "source": [
    "s2 = partial(spam, d=42)\n",
    "s2(1, 2, 3)"
   ]
  },
  {
   "cell_type": "code",
   "execution_count": 11,
   "metadata": {},
   "outputs": [
    {
     "name": "stdout",
     "output_type": "stream",
     "text": [
      "4 5 5 42\n"
     ]
    }
   ],
   "source": [
    "s2(4, 5, 5)"
   ]
  },
  {
   "cell_type": "code",
   "execution_count": 12,
   "metadata": {},
   "outputs": [
    {
     "name": "stdout",
     "output_type": "stream",
     "text": [
      "1 2 100 42\n"
     ]
    }
   ],
   "source": [
    "s3 = partial(spam, 1, 2, d=42)  # a=1, b=2, d=42\n",
    "s3(100)"
   ]
  },
  {
   "cell_type": "markdown",
   "metadata": {},
   "source": [
    "可以观察到`partial()`对特定的参数赋了固定值并返回了一个全新的可调用对象。这个新的可调用对象仍然需要通过指定那些未被赋值的参数来调用。这个新的可调用对象将传递给`partial()`的固定参数结合起来，统一将所有的参数传递给原始的函数。\n",
    "### 7.8.3 讨论\n",
    "本节提到的技术对于将看似不兼容的代码结合起来使用是大有裨益的。\n",
    "\n",
    "第一个例子是，假设有一列以元组(x, y)来表示的点坐标。可以用下面的函数来计算两点之间的距离.\n",
    "\n",
    "现在假设项根据这些点之间的距离来对它们排序。列表的`sort()`方法可接受一个key参数，它可用来做自定义的排序处理。但是它只能和接受单参数的函数一起工作(因此和distance()是不兼容的)。可以用`partial()`来解决这个问题："
   ]
  },
  {
   "cell_type": "code",
   "execution_count": 13,
   "metadata": {},
   "outputs": [
    {
     "data": {
      "text/plain": [
       "[(3, 4), (1, 2), (5, 6), (7, 8)]"
      ]
     },
     "execution_count": 13,
     "metadata": {},
     "output_type": "execute_result"
    }
   ],
   "source": [
    "points = [(1, 2), (3, 4), (5, 6), (7, 8)]\n",
    "import math\n",
    "\n",
    "def distance(p1, p2):\n",
    "    x1, y1 = p1\n",
    "    x2, y2 = p2\n",
    "    return math.hypot(x2-x1, y2-y1)\n",
    "\n",
    "pt = (4, 3)\n",
    "points.sort(key=partial(distance, pt))\n",
    "points"
   ]
  },
  {
   "cell_type": "markdown",
   "metadata": {},
   "source": [
    "可以对这个思路进行扩展，`partial()`常常可用来调整其他库用到的回调函数的参数签名。比方说，这里有一段代码利用`multiprocessing`模块以异步方式计算某个结果，并将这个结果传递给一个回调函数。该回调函数可接受这个结果以及一个可选的日志参数：\n",
    "\n",
    "在`apply_async()`中指定回调函数时，额外的日志参数是通过`partial()`来指定的。`multiprocessing`模块对于这些细节一无所知——它只通过单个参数来调用回调函数。"
   ]
  },
  {
   "cell_type": "code",
   "execution_count": 14,
   "metadata": {},
   "outputs": [],
   "source": [
    "def output_result(result, log=None):\n",
    "    if log is not None:\n",
    "        log.debug('Got: %r', result)\n",
    "\n",
    "# A sample function\n",
    "def add(x, y):\n",
    "    return x + y\n",
    "\n",
    "if __name__ == '__main__':\n",
    "    import logging\n",
    "    from multiprocessing import Pool\n",
    "    from functools import partial\n",
    "\n",
    "    logging.basicConfig(level=logging.DEBUG)\n",
    "    log = logging.getLogger('test')\n",
    "\n",
    "    p = Pool()\n",
    "    p.apply_async(add, (3, 4), callback=partial(output_result, log=log))\n",
    "    p.close()\n",
    "    p.join"
   ]
  },
  {
   "cell_type": "markdown",
   "metadata": {},
   "source": [
    "## 7.9 用函数替代只有单个方法的类\n",
    "### 7.9.1 问题\n",
    "有一个只定义了一个方法的类(除__init__()方法外)。但是，为了简化代码，更希望能够只用一个简单的函数来替代。\n",
    "### 7.9.2 解决方案\n",
    "在许多情况下，只有单个方法的类可以通过闭包(closure)将其转换成函数。考虑下面这个例子，这个类允许用户通过某种模板方案来获取URL。"
   ]
  },
  {
   "cell_type": "code",
   "execution_count": null,
   "metadata": {},
   "outputs": [],
   "source": [
    "from urllib.request import urlopen\n",
    "\n",
    "class UrlTemplate:\n",
    "    def __init__(self, template):\n",
    "        self.template = template\n",
    "    def open(self, **kwargs):\n",
    "        return urlopen(self.template.format_map(kwargs))\n",
    "\n",
    "# Example use. Download stock data from yahoo\n",
    "yahoo = UrlTemplate('http://finance.yahoo.com/d/quates.csv?s={names}&f={fields}')\n",
    "for line in yahoo.open(names='IBM,AAPL,FB', fields='sl1c1v'):\n",
    "    print(line.decode('utf-8'))\n",
    "\n",
    "# 这个类可以用一个简单的函数来取代：\n",
    "def urltemplate(template):\n",
    "    def opener(**kwargs):\n",
    "        return urlopen(template.format_map(kwargs))\n",
    "    return opener\n",
    "\n",
    "# Example use\n",
    "yahoo = urltemplate('http://finance.yahoo.com/d/quates.csv?s={names}&f={fields}')\n",
    "for line in yahoo.open(names='IBM,AAPL,FB', fields='sl1c1v'):\n",
    "    print(line.decode('utf-8'))"
   ]
  },
  {
   "cell_type": "markdown",
   "metadata": {},
   "source": [
    "### 7.9.3 讨论\n",
    "在许多情况下，我们会**使用只有单个方法的类的唯一原因就是保存额外的状态给类方法使用**。比方说，UelTemplate类的唯一目的就是将template的值保存在某处，这样就可以在`open()`方法中用上它。\n",
    "\n",
    "按照我们给出的解决方案，使用嵌套函数或者说闭包常常会显得更加优雅。简单来说，**闭包就是一个函数，但是它保存着额外的变量环境，使得这些变量可以在函数中使用**。闭包的核心特性就是它可以记住定义闭包时的环境。因此，在这个解决方案中`open()`函数可以记住参数template的值，然后在随后的调用中使用该值。\n",
    "\n",
    "当在编写代码中遇到**需要附加额外的状态给函数时，可以考虑使用闭包**。"
   ]
  },
  {
   "cell_type": "markdown",
   "metadata": {},
   "source": [
    "## 7.10 在回调函数中携带额外的状态\n",
    "### 7.10.1 问题\n",
    "编写需要使用回调函数的代码(比如，时间处理例程、完成回调等)，但是希望回调函数可以携带额外的状态以便在回调函数内部使用。\n",
    "### 7.10.2 解决方案\n",
    "本节中提到的对回调函数的应用可以在许多库和框架中找到——尤其是那些和异步处理相关的库和框架。为了说明和测试的目的，首席按定义下面的函数，特它会调用一个回调函数："
   ]
  },
  {
   "cell_type": "code",
   "execution_count": 16,
   "metadata": {},
   "outputs": [
    {
     "name": "stdout",
     "output_type": "stream",
     "text": [
      "Got 5\n"
     ]
    }
   ],
   "source": [
    "def apply_async(func, args, *, callback):\n",
    "    # Compute the result\n",
    "    result = func(*args)\n",
    "    # Invoke the callback with the result\n",
    "    callback(result)\n",
    "\n",
    "# 下面示例展示上述代码使用：\n",
    "def print_result(result):\n",
    "    print('Got', result)\n",
    "\n",
    "def add(x, y):\n",
    "    return x + y\n",
    "\n",
    "apply_async(add, (2, 3), callback=print_result)"
   ]
  },
  {
   "cell_type": "code",
   "execution_count": 17,
   "metadata": {},
   "outputs": [
    {
     "name": "stdout",
     "output_type": "stream",
     "text": [
      "Got helloworld\n"
     ]
    }
   ],
   "source": [
    "apply_async(add, ('hello', 'world'), callback=print_result)"
   ]
  },
  {
   "cell_type": "markdown",
   "metadata": {},
   "source": [
    "注意到函数`print_result()`仅接受一个单独的参数，也就是result。这里并没有传入其他的信息到函数中，有时候当我们希望回调函数可以同其他变量或者部分环境进行交互时，缺乏这类信息就会带来问题。\n",
    "\n",
    "一种在回调函数中携带额外信息的方法是使用绑定方法(bound-method)而不是普通的函数。比如，下面这个类保存了一个内部的序列号码，每当接收到一个结果时就递增这个号码。"
   ]
  },
  {
   "cell_type": "code",
   "execution_count": 18,
   "metadata": {},
   "outputs": [
    {
     "name": "stdout",
     "output_type": "stream",
     "text": [
      "[1] Got: 5\n",
      "[2] Got: helloworld\n"
     ]
    }
   ],
   "source": [
    "class ResultHandler:\n",
    "    def __init__(self):\n",
    "        self.sequence = 0\n",
    "    def handler(self, result):\n",
    "        self.sequence += 1\n",
    "        print('[{}] Got: {}'.format(self.sequence, result))\n",
    "\n",
    "# 要使用这个类，可以创建一个实例并将绑定方法handler当做回调函数来用：\n",
    "r = ResultHandler()\n",
    "apply_async(add, (2, 3), callback=r.handler)\n",
    "apply_async(add, ('hello', 'world'), callback=r.handler)"
   ]
  },
  {
   "cell_type": "code",
   "execution_count": 19,
   "metadata": {},
   "outputs": [
    {
     "name": "stdout",
     "output_type": "stream",
     "text": [
      "[1] Got: 5\n",
      "[2] Got: helloworld\n"
     ]
    }
   ],
   "source": [
    "# 作为类的替代方案，可以使用闭包来捕获状态\n",
    "def make_handler():\n",
    "    sequence = 0\n",
    "    def handler(result):\n",
    "        nonlocal sequence\n",
    "        sequence += 1\n",
    "        print('[{}] Got: {}'.format(sequence, result))\n",
    "    return handler\n",
    "\n",
    "handler = make_handler()\n",
    "apply_async(add, (2, 3), callback=handler)\n",
    "apply_async(add, ('hello', 'world'), callback=handler)"
   ]
  },
  {
   "cell_type": "code",
   "execution_count": 20,
   "metadata": {},
   "outputs": [
    {
     "name": "stdout",
     "output_type": "stream",
     "text": [
      "[1] Got: 5\n",
      "[2] Got: helloworld\n"
     ]
    }
   ],
   "source": [
    "# 利用协程(coroutine)来完成同样的任务，使用它的send()方法作为回调函数：\n",
    "def make_handler():\n",
    "    sequence = 0\n",
    "    while True:\n",
    "        result = yield\n",
    "        sequence += 1\n",
    "        print('[{}] Got: {}'.format(sequence, result))\n",
    "\n",
    "handler = make_handler()\n",
    "next(handler)\n",
    "apply_async(add, (2, 3), callback=handler.send)\n",
    "apply_async(add, ('hello', 'world'), callback=handler.send)"
   ]
  },
  {
   "cell_type": "code",
   "execution_count": 24,
   "metadata": {},
   "outputs": [
    {
     "name": "stdout",
     "output_type": "stream",
     "text": [
      "[1] Got: 5\n",
      "[2] Got: helloworld\n",
      "[3] Got: 5\n"
     ]
    }
   ],
   "source": [
    "# 也可以通过额外的参数在回调函数中携带状态，然后用partial()来处理参数个数的问题\n",
    "class SequenceNo:\n",
    "    def __init__(self):\n",
    "        self.sequence = 0\n",
    "\n",
    "\n",
    "def handler(result, seq):\n",
    "    seq.sequence += 1\n",
    "    print('[{}] Got: {}'.format(seq.sequence, result))\n",
    "\n",
    "seq = SequenceNo()\n",
    "from functools import partial\n",
    "apply_async(add, (2, 3), callback=partial(handler, seq=seq))\n",
    "apply_async(add, ('hello', 'world'), callback=partial(handler, seq=seq))\n",
    "\n",
    "apply_async(add, (2, 3), callback=lambda r:handler(r, seq))"
   ]
  },
  {
   "cell_type": "markdown",
   "metadata": {},
   "source": [
    "### 7.10.3 讨论\n",
    "基于回调函数的软件涉及常常会面临使代码陷入一团乱码的风险。部分原因是因为从代码发出初始请求开始到回调执行的这个过程，回调函数常常是与这个环境脱离的。因此，在发出请求和处理结果之间的执行环境就丢失了。如果想让回调函数在涉及多个步骤的任务中能够继续执行，就必须清除应该如何保存和还原相关的状态。\n",
    "\n",
    "主要有两种方法可用于捕获和携带状态。可以在类实例上携带状态(将状态附加到绑定方法上)，也可以在闭包中携带状态。这两种方法中，闭包可能要显得更轻量级以下，而且由于闭包也是由函数构建的，这样显得会更加自然。"
   ]
  },
  {
   "cell_type": "markdown",
   "metadata": {},
   "source": [
    "## 7.11 内联回调函数\n",
    "### 7.11.1 问题\n",
    "编写使用回调函数的代码，但是担心小型函数在代码中大肆泛滥，程序控制会因此而失控。\n",
    "### 7.12.2 解决方案\n",
    "可以通过生成器和写成将回调函数内联到一个函数中。\n"
   ]
  },
  {
   "cell_type": "code",
   "execution_count": 37,
   "metadata": {},
   "outputs": [],
   "source": [
    "def aaply_async(func, args, *, callback):\n",
    "    # Compute the result\n",
    "    result = func(*args)\n",
    "    # Invoke the callback with the result\n",
    "    callback(result)\n",
    "\n",
    "from queue import Queue\n",
    "from functools import wraps\n",
    "\n",
    "class Async:\n",
    "    def __init__(self, func, args):\n",
    "        self.func = func\n",
    "        self.args = args\n",
    "\n",
    "def inlined_async(func):\n",
    "    @wraps(func)\n",
    "    def wrapper(*args):\n",
    "        f = func(*args)\n",
    "        result_queue = Queue()\n",
    "        result_queue.put(None)\n",
    "        while True:\n",
    "            result = result_queue.get()\n",
    "            try:\n",
    "                a = f.send(result)\n",
    "                apply_async(a.func, a.args, callback=result_queue.put)\n",
    "            except StopIteration:\n",
    "                break\n",
    "    return wrapper"
   ]
  },
  {
   "cell_type": "code",
   "execution_count": 38,
   "metadata": {},
   "outputs": [],
   "source": [
    "def add(x, y):\n",
    "    return x + y\n",
    "\n",
    "@inlined_async\n",
    "def test():\n",
    "    r = yield Async(add, (2, 3))\n",
    "    print(r)\n",
    "    r = yield Async(add, ('hello', 'world'))\n",
    "    print(r)\n",
    "    for n in range(10):\n",
    "        r = yield Async(add, (n, n))\n",
    "        print(r)\n",
    "    print('Goodbye')"
   ]
  },
  {
   "cell_type": "code",
   "execution_count": 39,
   "metadata": {},
   "outputs": [
    {
     "name": "stdout",
     "output_type": "stream",
     "text": [
      "5\n",
      "helloworld\n",
      "0\n",
      "2\n",
      "4\n",
      "6\n",
      "8\n",
      "10\n",
      "12\n",
      "14\n",
      "16\n",
      "18\n",
      "Goodbye\n"
     ]
    }
   ],
   "source": [
    "test()"
   ]
  },
  {
   "cell_type": "markdown",
   "metadata": {},
   "source": [
    "### 7.11.3 讨论\n",
    "本节将真正考验以下读者对回调函数、生成器以及程序控制流方面的掌控情况。\n",
    "\n",
    "首先，子啊涉及回调函数的代码中，问题的关键就在于当前的计算会被挂起，然后再稍后某个时刻再得到恢复。当计算得到恢复时，会带哦函数将得以继续处理执行。示例中的`apply_async()`函数对执行回调函数的关键部分做了简单的说明，尽管再显示世界中这回复杂得多(涉及线程、进程、时间处理例程等)。\n",
    "\n",
    "将计算挂起之后再恢复，这个思想非常自然地同生成器函数对应了起来。棘突按理说就是`yield`操作使得生成器函数产生出一个值然后就挂起，后续调用生成器地`__next__()`或者`send()`方法会使得它再次启动。\n",
    "\n",
    "鉴于此，本节的核心就在`inlned_async()`装饰器函数中。关键点就是对于生成器函数的所有yield语句装饰器都会逐条进行跟踪，以此一个。为了做到这点，我们创建了一个队列用来保存结果，初始时用None来填充。之后通过循环将结果从队列总取出，然后发送给生成器，这样就会产生下一次yield，此时就会接收到Async的实例。然后在循环中查找函数和参数，开始异步计算`apply_async()`。但是，这个过程中最为隐蔽的部分就在于这里没有使用普通的回调函数，回调过程被设定到队列的`put()`方法中。\n",
    "\n",
    "此时应该可以精确描述到底发生了些什么。主循环会迅速回到顶层，并在队列中执行一个`get()`操作。如果有数据存在，那它就一定是由`put()`回调产生的结果。如果什么都没有，操作就会阻塞，等待之后某个时刻会有结果到来。至于结果要如何产生，这却决于`apply_async()`函数的实现。\n",
    "\n",
    "如果对这些东西能否正常工作抱有怀疑，可以结合多进程库异步操作在单独的进程中执行，以此测试该方案："
   ]
  },
  {
   "cell_type": "code",
   "execution_count": 40,
   "metadata": {},
   "outputs": [],
   "source": [
    "if __name__ == '__main__':\n",
    "    import multiprocessing\n",
    "    pool = multiprocessing.Pool()\n",
    "    apply_async = pool.apply_async\n",
    "\n",
    "    # Run the test function\n",
    "    test()"
   ]
  },
  {
   "cell_type": "markdown",
   "metadata": {},
   "source": [
    "将精巧的控制流隐藏在生成器函数之后，这种做法可以在标准库以及第三方报中找到，比如说，`contextlib`模块中的`@contextmanager`装饰器也使用了类似的令人费解的技巧，将上下文管理器的入口点和出口点通过一个yield语句粘合在一起。 "
   ]
  },
  {
   "cell_type": "markdown",
   "metadata": {},
   "source": [
    "## 7.12 访问定义在闭包内的变量\n",
    "### 7.12.1 问题\n",
    "希望通过函数来扩展闭包，使得在闭包内层定义的变量可以被访问和修改。\n",
    "### 7.12.2 解决方案\n",
    "一般来说，在闭包内层定义的变量对于外界来说完全时隔离的。但是，可以通过编写存取函数(accessor function，即getter/setter方法)并将它们作为函数属性暑假到闭包上来提供对内层变量的访问支持。"
   ]
  },
  {
   "cell_type": "code",
   "execution_count": 1,
   "metadata": {},
   "outputs": [],
   "source": [
    "def sample():\n",
    "    n = 0\n",
    "    # Closure function\n",
    "    def func():\n",
    "        print('n=', n)\n",
    "    # Accessor method for n\n",
    "    def get_n():\n",
    "        return n\n",
    "\n",
    "    def set_n(value):\n",
    "        nonlocal n\n",
    "        n = value\n",
    "    # Attach as function attributes\n",
    "    func.get_n = get_n\n",
    "    func.set_n = set_n\n",
    "    return func"
   ]
  },
  {
   "cell_type": "code",
   "execution_count": 2,
   "metadata": {},
   "outputs": [
    {
     "name": "stdout",
     "output_type": "stream",
     "text": [
      "n= 0\n"
     ]
    }
   ],
   "source": [
    "f = sample()\n",
    "f()"
   ]
  },
  {
   "cell_type": "code",
   "execution_count": 3,
   "metadata": {},
   "outputs": [
    {
     "name": "stdout",
     "output_type": "stream",
     "text": [
      "n= 10\n"
     ]
    }
   ],
   "source": [
    "f.set_n(10)\n",
    "f()"
   ]
  },
  {
   "cell_type": "code",
   "execution_count": 4,
   "metadata": {},
   "outputs": [
    {
     "data": {
      "text/plain": [
       "10"
      ]
     },
     "execution_count": 4,
     "metadata": {},
     "output_type": "execute_result"
    }
   ],
   "source": [
    "f.get_n()"
   ]
  },
  {
   "cell_type": "markdown",
   "metadata": {},
   "source": [
    "### 7.12.3 讨论\n",
    "这里主要用到了两个特性使得本节讨论的技术得以成功实施。首先，nonlocal声明使得编写函数来修改内层变量称为可能。其次，函数属性能够将存取函数一直接的方式附加到闭包函数上，它们工作起来很像实例的方法。\n",
    "\n",
    "对本节提到的技术稍加扩展就可以让闭包模拟成类实例。我们所要作的就是将内层函数拷贝到一个实例的字典中然后将它返回。示例如下："
   ]
  },
  {
   "cell_type": "code",
   "execution_count": 5,
   "metadata": {},
   "outputs": [],
   "source": [
    "import sys\n",
    "class ClosureInstance:\n",
    "    def __init__(self, locals=None):\n",
    "        if locals is None:\n",
    "            locals = sys._getframe(1).f_locals\n",
    "        # Update instance dictionary with callables\n",
    "        self.__dict__.update((key, value) for key, value in locals.items()\n",
    "                            if callable(value))\n",
    "    \n",
    "    def __len__(self):\n",
    "        return self.__dict__['__len__']()\n",
    "\n",
    "# Example use\n",
    "def Stock():\n",
    "    items = []\n",
    "    def push(item):\n",
    "        items.append(item)\n",
    "    \n",
    "    def pop():\n",
    "        return items.pop()\n",
    "    \n",
    "    def __len__():\n",
    "        return len(items)\n",
    "    return ClosureInstance()"
   ]
  },
  {
   "cell_type": "code",
   "execution_count": 6,
   "metadata": {},
   "outputs": [
    {
     "data": {
      "text/plain": [
       "<__main__.ClosureInstance at 0x28852d2f520>"
      ]
     },
     "execution_count": 6,
     "metadata": {},
     "output_type": "execute_result"
    }
   ],
   "source": [
    "s = Stock()\n",
    "s"
   ]
  },
  {
   "cell_type": "code",
   "execution_count": 7,
   "metadata": {},
   "outputs": [
    {
     "data": {
      "text/plain": [
       "3"
      ]
     },
     "execution_count": 7,
     "metadata": {},
     "output_type": "execute_result"
    }
   ],
   "source": [
    "s.push(10)\n",
    "s.push(20)\n",
    "s.push('Hello')\n",
    "len(s)"
   ]
  },
  {
   "cell_type": "code",
   "execution_count": 8,
   "metadata": {},
   "outputs": [
    {
     "data": {
      "text/plain": [
       "'Hello'"
      ]
     },
     "execution_count": 8,
     "metadata": {},
     "output_type": "execute_result"
    }
   ],
   "source": [
    "s.pop()"
   ]
  },
  {
   "cell_type": "code",
   "execution_count": 9,
   "metadata": {},
   "outputs": [
    {
     "data": {
      "text/plain": [
       "20"
      ]
     },
     "execution_count": 9,
     "metadata": {},
     "output_type": "execute_result"
    }
   ],
   "source": [
    "s.pop()"
   ]
  },
  {
   "cell_type": "code",
   "execution_count": 10,
   "metadata": {},
   "outputs": [
    {
     "data": {
      "text/plain": [
       "10"
      ]
     },
     "execution_count": 10,
     "metadata": {},
     "output_type": "execute_result"
    }
   ],
   "source": [
    "s.pop()"
   ]
  },
  {
   "cell_type": "code",
   "execution_count": 11,
   "metadata": {},
   "outputs": [
    {
     "data": {
      "text/plain": [
       "0.5184259999999767"
      ]
     },
     "execution_count": 11,
     "metadata": {},
     "output_type": "execute_result"
    }
   ],
   "source": [
    "# 这份代码运行起来比使用一个普通的类定义要稍微快一些，因为不涉及额外的seld变量\n",
    "class Stock2:\n",
    "    def __init__(self):\n",
    "        self.items = []\n",
    "    def push(self, item):\n",
    "        self.items.append(item)\n",
    "    \n",
    "    def pop(self):\n",
    "        return self.items.pop()\n",
    "    \n",
    "    def __len__(self):\n",
    "        return len(self.items)\n",
    "\n",
    "from timeit import timeit\n",
    "# Test involving closures\n",
    "s = Stock()\n",
    "timeit('s.push(1);s.pop()', 'from __main__ import s')"
   ]
  },
  {
   "cell_type": "code",
   "execution_count": 12,
   "metadata": {},
   "outputs": [
    {
     "data": {
      "text/plain": [
       "0.5304671000000099"
      ]
     },
     "execution_count": 12,
     "metadata": {},
     "output_type": "execute_result"
    }
   ],
   "source": [
    "# Test involving a class\n",
    "s = Stock2()\n",
    "timeit('s.push(1);s.pop()', 'from __main__ import s')"
   ]
  }
 ],
 "metadata": {
  "kernelspec": {
   "display_name": "Python 3.8.8 ('base')",
   "language": "python",
   "name": "python3"
  },
  "language_info": {
   "codemirror_mode": {
    "name": "ipython",
    "version": 3
   },
   "file_extension": ".py",
   "mimetype": "text/x-python",
   "name": "python",
   "nbconvert_exporter": "python",
   "pygments_lexer": "ipython3",
   "version": "3.8.8"
  },
  "orig_nbformat": 4,
  "vscode": {
   "interpreter": {
    "hash": "8967b6ecdc3a387f4ee01c8c6ec3fd3c2fc0d54335c2d6cf895885a0f9327229"
   }
  }
 },
 "nbformat": 4,
 "nbformat_minor": 2
}
