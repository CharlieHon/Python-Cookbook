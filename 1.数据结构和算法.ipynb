{
 "cells": [
  {
   "cell_type": "markdown",
   "metadata": {},
   "source": [
    "## 1.1 将序列分解为单独的变量\n",
    "### 1.1.1 问题\n",
    "有一个包含N个元素的元组或序列，将它分解为N个单独的变量\n",
    "### 1.12 解决方案\n",
    "任何序列(或可迭代对象)都可以通过一个就按单的赋值操作来分解为单独的变量。唯一的要求是变量的总书和结构要与序列相吻合。"
   ]
  },
  {
   "cell_type": "code",
   "execution_count": 2,
   "metadata": {},
   "outputs": [
    {
     "name": "stdout",
     "output_type": "stream",
     "text": [
      "4\n",
      "5\n"
     ]
    }
   ],
   "source": [
    "p = (4, 5)\n",
    "x, y = p\n",
    "print(x)\n",
    "print(y)"
   ]
  },
  {
   "cell_type": "code",
   "execution_count": 3,
   "metadata": {},
   "outputs": [
    {
     "name": "stdout",
     "output_type": "stream",
     "text": [
      "ACME\n",
      "50\n",
      "91.1\n",
      "(2012, 12, 21)\n"
     ]
    }
   ],
   "source": [
    "data = ['ACME', 50, 91.1, (2012, 12, 21)]\n",
    "name, shares, price, date = data\n",
    "print(name)\n",
    "print(shares)\n",
    "print(price)\n",
    "print(date)"
   ]
  },
  {
   "cell_type": "code",
   "execution_count": 4,
   "metadata": {},
   "outputs": [
    {
     "name": "stdout",
     "output_type": "stream",
     "text": [
      "2012\n",
      "12\n",
      "21\n"
     ]
    }
   ],
   "source": [
    "data = ['ACME', 50, 91.1, (2012, 12, 21)]\n",
    "name, shares, price, (year, mon, day) = data\n",
    "print(year)\n",
    "print(mon)\n",
    "print(day)"
   ]
  },
  {
   "cell_type": "markdown",
   "metadata": {},
   "source": [
    "如果元素的数量不匹配，将得到一个错误提示。"
   ]
  },
  {
   "cell_type": "code",
   "execution_count": 2,
   "metadata": {},
   "outputs": [
    {
     "ename": "ValueError",
     "evalue": "not enough values to unpack (expected 3, got 2)",
     "output_type": "error",
     "traceback": [
      "\u001b[1;31m---------------------------------------------------------------------------\u001b[0m",
      "\u001b[1;31mValueError\u001b[0m                                Traceback (most recent call last)",
      "\u001b[1;32m<ipython-input-2-16f8f27ebf6e>\u001b[0m in \u001b[0;36m<module>\u001b[1;34m\u001b[0m\n\u001b[0;32m      1\u001b[0m \u001b[0mp\u001b[0m \u001b[1;33m=\u001b[0m \u001b[1;33m(\u001b[0m\u001b[1;36m4\u001b[0m\u001b[1;33m,\u001b[0m \u001b[1;36m5\u001b[0m\u001b[1;33m)\u001b[0m\u001b[1;33m\u001b[0m\u001b[1;33m\u001b[0m\u001b[0m\n\u001b[1;32m----> 2\u001b[1;33m \u001b[0mx\u001b[0m\u001b[1;33m,\u001b[0m \u001b[0my\u001b[0m\u001b[1;33m,\u001b[0m \u001b[0mz\u001b[0m \u001b[1;33m=\u001b[0m \u001b[0mp\u001b[0m\u001b[1;33m\u001b[0m\u001b[1;33m\u001b[0m\u001b[0m\n\u001b[0m",
      "\u001b[1;31mValueError\u001b[0m: not enough values to unpack (expected 3, got 2)"
     ]
    }
   ],
   "source": [
    "p = (4, 5)\n",
    "x, y, z = p"
   ]
  },
  {
   "cell_type": "markdown",
   "metadata": {},
   "source": [
    "### 1.1.3 讨论\n",
    "只要对象是可迭代的，就可以执行分解操作。包括字符串、文件、迭代器以及生成器。"
   ]
  },
  {
   "cell_type": "code",
   "execution_count": 4,
   "metadata": {},
   "outputs": [
    {
     "name": "stdout",
     "output_type": "stream",
     "text": [
      "H e l l o\n"
     ]
    }
   ],
   "source": [
    "s = 'Hello'\n",
    "a, b, c, d, e = s\n",
    "print(a, b, c, d, e)"
   ]
  },
  {
   "cell_type": "markdown",
   "metadata": {},
   "source": [
    "做分解操作时，可以丢弃某些特定的值。可以选一个用不到的变量名如`_`，以此来作为要丢弃的值的名称。"
   ]
  },
  {
   "cell_type": "code",
   "execution_count": 5,
   "metadata": {},
   "outputs": [
    {
     "name": "stdout",
     "output_type": "stream",
     "text": [
      "50\n",
      "91.1\n"
     ]
    }
   ],
   "source": [
    "data = ['ACME', 50, 91.1, (2012, 12, 21)]\n",
    "_, shares, price, _ = data\n",
    "print(shares)\n",
    "print(price)"
   ]
  },
  {
   "cell_type": "markdown",
   "metadata": {},
   "source": [
    "## 1.2 从任意长度的可迭代对象中分解元素\n",
    "### 1.2.1 问题\n",
    "需要从某个可迭代对象中分解出N个元素，但是这个可迭代对象的长度可能超过N，这回导致出现“分解的值过多(too many values to unpack)”的异常\n",
    "### 1.2.2 解决方案\n",
    "Python的`*`表达式可以用来解决这个问题。"
   ]
  },
  {
   "cell_type": "code",
   "execution_count": 6,
   "metadata": {},
   "outputs": [],
   "source": [
    "# 期末作业成绩等于去掉第一个和最后一个，只对中间剩下的成绩做平均分统计。\n",
    "from audioop import avg\n",
    "\n",
    "\n",
    "def drop_first_last(grades):\n",
    "    first, *middle, last = grades\n",
    "    return avg(middle)"
   ]
  },
  {
   "cell_type": "code",
   "execution_count": 7,
   "metadata": {},
   "outputs": [
    {
     "name": "stdout",
     "output_type": "stream",
     "text": [
      "Charlie Charlie@gmail.com ['773-555-1212', '847-555-1212']\n"
     ]
    }
   ],
   "source": [
    "record = ('Charlie', 'Charlie@gmail.com', '773-555-1212', '847-555-1212')\n",
    "name, email, *phone_numbers = record\n",
    "print(name, email, phone_numbers)"
   ]
  },
  {
   "cell_type": "markdown",
   "metadata": {},
   "source": [
    "### 1.2.3 讨论\n",
    "对于分解未知或任意长度的可迭代对象，这种扩展的分解操作非常有用。通常，这类可迭代独享中会有一些已知的组件或模式(例如，元素1之后的所有内容都是电话号码)。利用*表达式可以分解可迭代对象可以轻松利用这些模式。"
   ]
  },
  {
   "cell_type": "code",
   "execution_count": 8,
   "metadata": {},
   "outputs": [
    {
     "name": "stdout",
     "output_type": "stream",
     "text": [
      "foo 1 2\n",
      "bar hello\n",
      "foo 3 4\n"
     ]
    }
   ],
   "source": [
    "records = [\n",
    "    ('foo', 1, 2),\n",
    "    ('bar', 'hello'),\n",
    "    ('foo', 3, 4),\n",
    "]\n",
    "\n",
    "def do_foo(x, y):\n",
    "    print('foo', x, y)\n",
    "\n",
    "def do_bar(s):\n",
    "    print('bar', s)\n",
    "\n",
    "for tag, *args in records:\n",
    "    if tag == 'foo':\n",
    "        do_foo(*args)\n",
    "    elif tag == 'bar':\n",
    "        do_bar(*args)"
   ]
  },
  {
   "cell_type": "markdown",
   "metadata": {},
   "source": [
    "当和某些特定的字符串处理操作相结合，比如做拆分(splitting)操作时，这种*式的语法所支持的分解操作也非常有用。"
   ]
  },
  {
   "cell_type": "code",
   "execution_count": 9,
   "metadata": {},
   "outputs": [
    {
     "name": "stdout",
     "output_type": "stream",
     "text": [
      "nobody /var/empty /usr/bin/flase\n"
     ]
    }
   ],
   "source": [
    "line = 'nobody:*:-2:-2:Unprivileged User:/var/empty:/usr/bin/flase'\n",
    "uname, *fields, homedir, sh = line.split(':')\n",
    "print(uname, homedir, sh)"
   ]
  },
  {
   "cell_type": "code",
   "execution_count": 10,
   "metadata": {},
   "outputs": [
    {
     "name": "stdout",
     "output_type": "stream",
     "text": [
      "ACME 2012\n"
     ]
    }
   ],
   "source": [
    "record = ('ACME', 50, 123.45, (12, 18, 2012))\n",
    "name, *_, (*_, year) = record\n",
    "print(name, year)"
   ]
  },
  {
   "cell_type": "markdown",
   "metadata": {},
   "source": [
    "## 1.3 保存最后N个元素\n",
    "### 1.3.1 问题\n",
    "在迭代或其他形式的处理过程中对最后几项操作做一个有限的历史记录统计\n",
    "### 1.3.2 解决方案\n",
    "保存有限的历史记录是`collections.deque`的强项。以下代码对一些列文本行做简单的文本匹配操作，当发现有匹配时就输出当前的匹配行以及最后检查过的N行文本\n",
    "\n",
    "deque(maxlen=N)创建了一个固定长度的队列。当有新纪录加入而队列已满时会自动移除最老的那条记录。"
   ]
  },
  {
   "cell_type": "code",
   "execution_count": 12,
   "metadata": {},
   "outputs": [
    {
     "data": {
      "text/plain": [
       "deque([1, 2, 3])"
      ]
     },
     "execution_count": 12,
     "metadata": {},
     "output_type": "execute_result"
    }
   ],
   "source": [
    "from collections import deque\n",
    "q = deque(maxlen=3)\n",
    "q.append(1)\n",
    "q.append(2)\n",
    "q.append(3)\n",
    "q"
   ]
  },
  {
   "cell_type": "code",
   "execution_count": 13,
   "metadata": {},
   "outputs": [
    {
     "data": {
      "text/plain": [
       "deque([2, 3, 4])"
      ]
     },
     "execution_count": 13,
     "metadata": {},
     "output_type": "execute_result"
    }
   ],
   "source": [
    "q.append(4)\n",
    "q"
   ]
  },
  {
   "cell_type": "code",
   "execution_count": 14,
   "metadata": {},
   "outputs": [
    {
     "data": {
      "text/plain": [
       "deque([3, 4, 5])"
      ]
     },
     "execution_count": 14,
     "metadata": {},
     "output_type": "execute_result"
    }
   ],
   "source": [
    "q.append(5)\n",
    "q"
   ]
  },
  {
   "cell_type": "markdown",
   "metadata": {},
   "source": [
    "当需要一个简单的队列结构时，deque很有帮助。如果不指定队列的大小，就得到了一个无界限的队列，可以在两端执行添加和弹出操作"
   ]
  },
  {
   "cell_type": "code",
   "execution_count": 20,
   "metadata": {},
   "outputs": [
    {
     "data": {
      "text/plain": [
       "deque([1, 2, 3])"
      ]
     },
     "execution_count": 20,
     "metadata": {},
     "output_type": "execute_result"
    }
   ],
   "source": [
    "q = deque()\n",
    "q.append(1)\n",
    "q.append(2)\n",
    "q.append(3)\n",
    "q"
   ]
  },
  {
   "cell_type": "code",
   "execution_count": 21,
   "metadata": {},
   "outputs": [
    {
     "data": {
      "text/plain": [
       "deque([4, 1, 2, 3])"
      ]
     },
     "execution_count": 21,
     "metadata": {},
     "output_type": "execute_result"
    }
   ],
   "source": [
    "q.appendleft(4)\n",
    "q"
   ]
  },
  {
   "cell_type": "code",
   "execution_count": 22,
   "metadata": {},
   "outputs": [
    {
     "data": {
      "text/plain": [
       "deque([4, 1, 2])"
      ]
     },
     "execution_count": 22,
     "metadata": {},
     "output_type": "execute_result"
    }
   ],
   "source": [
    "q.pop()\n",
    "q"
   ]
  },
  {
   "cell_type": "code",
   "execution_count": 23,
   "metadata": {},
   "outputs": [
    {
     "data": {
      "text/plain": [
       "4"
      ]
     },
     "execution_count": 23,
     "metadata": {},
     "output_type": "execute_result"
    }
   ],
   "source": [
    "q.popleft() # 返回弹出的值"
   ]
  },
  {
   "cell_type": "markdown",
   "metadata": {},
   "source": [
    "读取文件`somefile.txt`，将含有单词`Python`的行输出"
   ]
  },
  {
   "cell_type": "code",
   "execution_count": 6,
   "metadata": {},
   "outputs": [
    {
     "name": "stdout",
     "output_type": "stream",
     "text": [
      "hello world\n",
      "I like Python\n",
      "--------------------\n",
      "hello world\n",
      "I like Python\n",
      "Life is short, I use Python\n",
      "--------------------\n",
      "I like Python\n",
      "Life is short, I use Python\n",
      "However, I'm learning cpp now\n",
      "I love China\n",
      "one piece\n",
      "Python is easy to learn\n",
      "--------------------\n",
      "Life is short, I use Python\n",
      "However, I'm learning cpp now\n",
      "I love China\n",
      "one piece\n",
      "Python is easy to learn\n",
      "I like Python\n",
      "--------------------\n"
     ]
    }
   ],
   "source": [
    "from collections import deque\n",
    "\n",
    "def search(lines, pattern, history=5):\n",
    "    previous_lines = deque(maxlen=history)\n",
    "    for line in lines:\n",
    "        if pattern in line:\n",
    "            yield line, previous_lines  # 当检测到时，输出当前行line，以及包含前几行的previous_lines\n",
    "        previous_lines.append(line)\n",
    "\n",
    "if __name__ == '__main__':\n",
    "    with open('src/somefile.txt') as f:\n",
    "        for line, prelines in search(f, 'Python', 5):\n",
    "            for pline in prelines:\n",
    "                print(pline, end='')    # 输出记录的前几行，最多保存5行\n",
    "            print(line, end='') # 输出当前行\n",
    "            print('-'*20)"
   ]
  },
  {
   "cell_type": "markdown",
   "metadata": {},
   "source": [
    "## 1.4 找出最大或最小的N个元素\n",
    "### 1.4.1 解决方案\n",
    "`heapq`模块中有两个函数——`nlargest()`和`nsmallest()`"
   ]
  },
  {
   "cell_type": "code",
   "execution_count": 7,
   "metadata": {},
   "outputs": [
    {
     "name": "stdout",
     "output_type": "stream",
     "text": [
      "[42, 37, 23]\n",
      "[-4, 1, 2]\n"
     ]
    }
   ],
   "source": [
    "import heapq\n",
    "nums = [1, 8, 2, 23, 7, -4, 18, 23, 42, 37, 2]\n",
    "print(heapq.nlargest(3, nums))  # 输出列表nums中最大的3个元素 [42, 37, 23]\n",
    "print(heapq.nsmallest(3, nums)) # 输出列表nums中最小的3个元素 [-4, 1, 2]"
   ]
  },
  {
   "cell_type": "markdown",
   "metadata": {},
   "source": [
    "这两个函数都可以接受一个参数key，运行工作在更加复杂的数据结构之上，自定义排序"
   ]
  },
  {
   "cell_type": "code",
   "execution_count": 8,
   "metadata": {},
   "outputs": [
    {
     "data": {
      "text/plain": [
       "[{'name': 'YHOO', 'shares': 45, 'price': 16.35},\n",
       " {'name': 'FB', 'shares': 200, 'price': 21.09},\n",
       " {'name': 'HPQ', 'shares': 35, 'price': 31.75}]"
      ]
     },
     "execution_count": 8,
     "metadata": {},
     "output_type": "execute_result"
    }
   ],
   "source": [
    "portfolio = [\n",
    "    {'name':'IBM', 'shares':100, 'price':91.1},\n",
    "    {'name':'AAPL', 'shares':50, 'price':543.22},\n",
    "    {'name':'FB', 'shares':200, 'price':21.09},\n",
    "    {'name':'HPQ', 'shares':35, 'price':31.75},\n",
    "    {'name':'YHOO', 'shares':45, 'price':16.35},\n",
    "    {'name':'ACME', 'shares':75, 'price':115.65}\n",
    "]\n",
    "\n",
    "cheap = heapq.nsmallest(3, portfolio, key=lambda s:s['price'])  # 按'price'排序最小的3个元素\n",
    "cheap"
   ]
  },
  {
   "cell_type": "markdown",
   "metadata": {},
   "source": [
    "### 1.4.2 讨论\n",
    "如果正在寻找最大或最小的N个元素，且同集合中元素的总数目相比，N很小，以下方法可以提供更好的性能。这些函数首先在底层将数据转化成列表，且元素会以堆的顺序排列。\n",
    "\n",
    "堆最重要的特性就是heap[0]总是最小那个的元素。接下来的元素可依次通过`heapq.heappop()`方法找到，该方法会将第一个元素(最小的)弹出，然后以第二小的元素取而代之(复杂度是O(logN)，N代表堆的大小)。要找到第3小的元素，可以这样做："
   ]
  },
  {
   "cell_type": "code",
   "execution_count": 10,
   "metadata": {},
   "outputs": [
    {
     "data": {
      "text/plain": [
       "[-4, 2, 1, 23, 7, 2, 18, 23, 42, 37, 8]"
      ]
     },
     "execution_count": 10,
     "metadata": {},
     "output_type": "execute_result"
    }
   ],
   "source": [
    "nums = [1, 8, 2, 23, 7, -4, 18, 23, 42, 37, 2]\n",
    "import heapq\n",
    "heap = list(nums)\n",
    "heapq.heapify(heap) # heapq.heapify()将列表(list)转换为堆(heap)\n",
    "heap"
   ]
  },
  {
   "cell_type": "code",
   "execution_count": 12,
   "metadata": {},
   "outputs": [
    {
     "data": {
      "text/plain": [
       "-4"
      ]
     },
     "execution_count": 12,
     "metadata": {},
     "output_type": "execute_result"
    }
   ],
   "source": [
    "heapq.heappop(heap) # 最小的元素"
   ]
  },
  {
   "cell_type": "code",
   "execution_count": 13,
   "metadata": {},
   "outputs": [
    {
     "data": {
      "text/plain": [
       "1"
      ]
     },
     "execution_count": 13,
     "metadata": {},
     "output_type": "execute_result"
    }
   ],
   "source": [
    "heapq.heappop(heap) # 第2小的元素"
   ]
  },
  {
   "cell_type": "code",
   "execution_count": 14,
   "metadata": {},
   "outputs": [
    {
     "data": {
      "text/plain": [
       "2"
      ]
     },
     "execution_count": 14,
     "metadata": {},
     "output_type": "execute_result"
    }
   ],
   "source": [
    "heapq.heappop(heap) # 第3小的元素"
   ]
  },
  {
   "cell_type": "markdown",
   "metadata": {},
   "source": [
    "- 当所要找的元素数量相对较小时，函数`nlargest()`和`nsmallest()`才是最适用的。\n",
    "- 如果只是简单地找到最小或最大地元素(N=1)，用`min()`和`max()`会更加快。\n",
    "- 如果N和集合本身地大小差不多大，通常更快地方法是先对集合排序，然后做切片操作。(例如，使用sorted(items)[:N])\n",
    "- 值得注意的是：`nlargest()`和`nsmallest()`的实际实现会根据使用它们的方式而有所不同，可能会相应做出一些优化措施(比如，当N大小同输入大小很接近时，就会采用排序的方法)"
   ]
  },
  {
   "cell_type": "markdown",
   "metadata": {},
   "source": [
    "## 1.5 实现优先级队列\n"
   ]
  },
  {
   "cell_type": "code",
   "execution_count": null,
   "metadata": {},
   "outputs": [],
   "source": []
  }
 ],
 "metadata": {
  "kernelspec": {
   "display_name": "Python 3.8.8 ('base')",
   "language": "python",
   "name": "python3"
  },
  "language_info": {
   "codemirror_mode": {
    "name": "ipython",
    "version": 3
   },
   "file_extension": ".py",
   "mimetype": "text/x-python",
   "name": "python",
   "nbconvert_exporter": "python",
   "pygments_lexer": "ipython3",
   "version": "3.8.8"
  },
  "orig_nbformat": 4,
  "vscode": {
   "interpreter": {
    "hash": "8967b6ecdc3a387f4ee01c8c6ec3fd3c2fc0d54335c2d6cf895885a0f9327229"
   }
  }
 },
 "nbformat": 4,
 "nbformat_minor": 2
}
