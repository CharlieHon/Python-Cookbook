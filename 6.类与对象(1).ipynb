{
 "cells": [
  {
   "cell_type": "markdown",
   "metadata": {},
   "source": [
    "## 8.1 修改实例的字符串表示\n",
    "### 8.1.1 问题\n",
    "修改打印实例所产生的输出，使输出结果能更有意义。\n",
    "### 8.1.2 解决方案\n",
    "要修改实例的字符串表示，可以通过定义`__str__()`和`__repr__()`方法来实现。实例如下，特殊方法`__repr__()`返回的是实例的代码表示(code representation)，通常可以用它返回的字符串文本来创建这个实例(即满足 `obj == eval(repr(obj))`)。内建的`repr()`函数可以用来返回这个字符串，当缺少交互式解释环境时可用它来检查实例的值。特殊方法`__str__()`将实例转换为一个字符串，这也是由`str()`和`print()`函数所产生的输出。"
   ]
  },
  {
   "cell_type": "code",
   "execution_count": 3,
   "metadata": {},
   "outputs": [],
   "source": [
    "class Pair:\n",
    "    def __init__(self, x, y):\n",
    "        self.x = x\n",
    "        self.y = y\n",
    "    def __repr__(self):\n",
    "        return 'Pair({0.x!r}, {0.y!r})'.format(self)    # 0代表实例self，即self.x, self.y\n",
    "    def __str__(self):\n",
    "        return '({0.x!s}, {0.y!s})'.format(self)\n",
    "\n",
    "p = Pair(3, 4)"
   ]
  },
  {
   "cell_type": "code",
   "execution_count": 4,
   "metadata": {},
   "outputs": [
    {
     "data": {
      "text/plain": [
       "Pair(3, 4)"
      ]
     },
     "execution_count": 4,
     "metadata": {},
     "output_type": "execute_result"
    }
   ],
   "source": [
    "p   # __repr__() output"
   ]
  },
  {
   "cell_type": "code",
   "execution_count": 5,
   "metadata": {},
   "outputs": [
    {
     "name": "stdout",
     "output_type": "stream",
     "text": [
      "(3, 4)\n"
     ]
    }
   ],
   "source": [
    "print(p)    # __str__() output"
   ]
  },
  {
   "cell_type": "markdown",
   "metadata": {},
   "source": [
    "特殊的格式化代码`!r`表示应该使用`__repr__()`的输出，而不是默认的`__str__()`。"
   ]
  },
  {
   "cell_type": "code",
   "execution_count": 7,
   "metadata": {},
   "outputs": [
    {
     "name": "stdout",
     "output_type": "stream",
     "text": [
      "p is Pair(3, 4)\n",
      "p is (3, 4)\n"
     ]
    }
   ],
   "source": [
    "p = Pair(3, 4)\n",
    "print('p is {!r}'.format(p))\n",
    "print('p is {}'.format(p))"
   ]
  },
  {
   "cell_type": "markdown",
   "metadata": {},
   "source": [
    "### 7.1.3 讨论\n",
    "对于`__repr__()`，标准的做法是让它产生的字符串文本能够满足`eval(repr(x))==x`。如果不可能办到或者说不希望有这种行为，那么通常就让它产生一段有帮助意义的文本，并且以`<>`括起来，实例如下。\n",
    "\n",
    "如果没有定义`__str__()`，那么就用`__repr__()`的输出当作备份。解决方案中，格式化代码`{0.x}`用来代指参数0的x属性，在下面的函数中，0实际上就代表实例`self`。"
   ]
  },
  {
   "cell_type": "code",
   "execution_count": 8,
   "metadata": {},
   "outputs": [
    {
     "data": {
      "text/plain": [
       "<_io.TextIOWrapper name='src/somefile.txt' mode='r' encoding='UTF-8'>"
      ]
     },
     "execution_count": 8,
     "metadata": {},
     "output_type": "execute_result"
    }
   ],
   "source": [
    "f = open('src/somefile.txt')\n",
    "f"
   ]
  },
  {
   "cell_type": "code",
   "execution_count": 9,
   "metadata": {},
   "outputs": [],
   "source": [
    "def __repr__(self):\n",
    "    return 'Pair({0.x!r}, {0.y!r})'.format(self)\n",
    "\n",
    "# 使用 % 操作符也可以完成\n",
    "def __repr__(self):\n",
    "    return 'Pair(%r, %r)' % (self.x, self.y)"
   ]
  },
  {
   "cell_type": "markdown",
   "metadata": {},
   "source": [
    "## 8.2 自定义字符串的输出格式\n",
    "### 8.2.1 问题\n",
    "想让对象通过`format()`函数和字符串方法来支持自定义的输出格式。\n",
    "### 8.2.2 解决方案\n",
    "要自定义字符串的输出格式，可以在类中定义`__format__()`方法。"
   ]
  },
  {
   "cell_type": "code",
   "execution_count": 10,
   "metadata": {},
   "outputs": [],
   "source": [
    "_formats = {\n",
    "    'ymd': '{d.year}--{d.month}--{d.day}',\n",
    "    'mdy': '{d.month}/{d.dy}/{d.year}',\n",
    "    'dmy': '{d.day}/{d.month}/{d.year}'\n",
    "}\n",
    "\n",
    "class Date:\n",
    "    def __init__(self, year, month, day):\n",
    "        self.year = year\n",
    "        self.month = month\n",
    "        self.day = day\n",
    "    def __format__(self, code):\n",
    "        if code == '':\n",
    "            code = 'ymd'\n",
    "        fmt = _formats[code]\n",
    "        return fmt.format(d=self)"
   ]
  },
  {
   "cell_type": "code",
   "execution_count": 11,
   "metadata": {},
   "outputs": [
    {
     "data": {
      "text/plain": [
       "'2012--12--21'"
      ]
     },
     "execution_count": 11,
     "metadata": {},
     "output_type": "execute_result"
    }
   ],
   "source": [
    "# Date类的实例现在可以支持如下的格式化操作了：\n",
    "d = Date(2012, 12, 21)\n",
    "format(d)"
   ]
  },
  {
   "cell_type": "code",
   "execution_count": 15,
   "metadata": {},
   "outputs": [
    {
     "data": {
      "text/plain": [
       "'21/12/2012'"
      ]
     },
     "execution_count": 15,
     "metadata": {},
     "output_type": "execute_result"
    }
   ],
   "source": [
    "format(d, 'dmy')"
   ]
  },
  {
   "cell_type": "code",
   "execution_count": 16,
   "metadata": {},
   "outputs": [
    {
     "data": {
      "text/plain": [
       "'The date is 2012--12--21'"
      ]
     },
     "execution_count": 16,
     "metadata": {},
     "output_type": "execute_result"
    }
   ],
   "source": [
    "'The date is {:ymd}'.format(d)"
   ]
  },
  {
   "cell_type": "markdown",
   "metadata": {},
   "source": [
    "### 8.2.3 讨论\n",
    "`__format__()`方法在Python的字符串格式化功能中提供了一个钩子。对格式化代码的解释完全取决于类本身。因此，格式化代码几乎可以为任何形式。"
   ]
  },
  {
   "cell_type": "code",
   "execution_count": 17,
   "metadata": {},
   "outputs": [
    {
     "data": {
      "text/plain": [
       "'2022-07-28'"
      ]
     },
     "execution_count": 17,
     "metadata": {},
     "output_type": "execute_result"
    }
   ],
   "source": [
    "from datetime import date\n",
    "d = date(2022, 7, 28)\n",
    "format(d)"
   ]
  },
  {
   "cell_type": "code",
   "execution_count": 18,
   "metadata": {},
   "outputs": [
    {
     "data": {
      "text/plain": [
       "'Thursday, July, 28, 2022'"
      ]
     },
     "execution_count": 18,
     "metadata": {},
     "output_type": "execute_result"
    }
   ],
   "source": [
    "format(d, '%A, %B, %d, %Y')"
   ]
  },
  {
   "cell_type": "code",
   "execution_count": 19,
   "metadata": {},
   "outputs": [
    {
     "data": {
      "text/plain": [
       "'the end is 28 Jul 2022. Goodbye'"
      ]
     },
     "execution_count": 19,
     "metadata": {},
     "output_type": "execute_result"
    }
   ],
   "source": [
    "'the end is {:%d %b %Y}. Goodbye'.format(d)"
   ]
  },
  {
   "cell_type": "code",
   "execution_count": null,
   "metadata": {},
   "outputs": [],
   "source": []
  }
 ],
 "metadata": {
  "kernelspec": {
   "display_name": "Python 3.8.8 ('base')",
   "language": "python",
   "name": "python3"
  },
  "language_info": {
   "codemirror_mode": {
    "name": "ipython",
    "version": 3
   },
   "file_extension": ".py",
   "mimetype": "text/x-python",
   "name": "python",
   "nbconvert_exporter": "python",
   "pygments_lexer": "ipython3",
   "version": "3.8.8"
  },
  "orig_nbformat": 4,
  "vscode": {
   "interpreter": {
    "hash": "8967b6ecdc3a387f4ee01c8c6ec3fd3c2fc0d54335c2d6cf895885a0f9327229"
   }
  }
 },
 "nbformat": 4,
 "nbformat_minor": 2
}
