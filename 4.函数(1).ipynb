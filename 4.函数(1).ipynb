{
 "cells": [
  {
   "cell_type": "markdown",
   "metadata": {},
   "source": [
    "## 7.1 编写可接受任意数量参数的函数\n",
    "### 解决方案\n",
    "可以使用以`*`开头的参数。示例如下，rest是一个元组，包含了其他所有传递过来的位置参数。代码在之后的计算中将其视为一个序列来处理。"
   ]
  },
  {
   "cell_type": "code",
   "execution_count": 1,
   "metadata": {},
   "outputs": [
    {
     "data": {
      "text/plain": [
       "2.5"
      ]
     },
     "execution_count": 1,
     "metadata": {},
     "output_type": "execute_result"
    }
   ],
   "source": [
    "def avg(first, *rest):\n",
    "    return (first + sum(rest)) / (1 + len(rest))\n",
    "\n",
    "avg(1, 2, 3, 4) # 2.5"
   ]
  },
  {
   "cell_type": "markdown",
   "metadata": {},
   "source": [
    "如果要接受任意数量的**关键字参数**，可以使用以`**`开头的参数。示例如下："
   ]
  },
  {
   "cell_type": "code",
   "execution_count": 2,
   "metadata": {},
   "outputs": [],
   "source": [
    "import html\n",
    "\n",
    "def make_element(name, value, **attrs):\n",
    "    keyvals = [' %s=\"%s\"' % item for item in attrs.items()]\n",
    "    attr_str = ''.join(keyvals)\n",
    "    element = '<{name}{attrs}>{value}</{name}>'.format(\n",
    "                name = name,\n",
    "                attrs=attr_str,\n",
    "                value=html.escape(value))\n",
    "    return element"
   ]
  },
  {
   "cell_type": "code",
   "execution_count": 4,
   "metadata": {},
   "outputs": [
    {
     "data": {
      "text/plain": [
       "'<item size=\"large\" quantity=\"6\">Albatross</item>'"
      ]
     },
     "execution_count": 4,
     "metadata": {},
     "output_type": "execute_result"
    }
   ],
   "source": [
    "# Example\n",
    "# Creates '<item size=\"large\" quantity=\"6\">Albatross</item>'\n",
    "make_element('item', 'Albatross', size='large', quantity=6)"
   ]
  },
  {
   "cell_type": "code",
   "execution_count": 5,
   "metadata": {},
   "outputs": [
    {
     "data": {
      "text/plain": [
       "'<p>&lt;spam&gt;</p>'"
      ]
     },
     "execution_count": 5,
     "metadata": {},
     "output_type": "execute_result"
    }
   ],
   "source": [
    "# Create '<p>&lt;spam&gt;</p>'\n",
    "make_element('p', '<spam>')"
   ]
  },
  {
   "cell_type": "markdown",
   "metadata": {},
   "source": [
    "在这里attrs是一个**字典**，它包含了所有传递过来的关键字参数(如果有的话)。\n",
    "\n",
    "如果想要函数能同时接受任意数量的位置参数和关键字参数，只要联合使用`*`和`**`即可。示例如下，在这个函数中，所有的位置参数都会放置在**元组**`args`中，而所有的关键字参数都会放置在**字典**`kwargs`中。"
   ]
  },
  {
   "cell_type": "code",
   "execution_count": 8,
   "metadata": {},
   "outputs": [
    {
     "name": "stdout",
     "output_type": "stream",
     "text": [
      "(1, 'a', 3.0)\n",
      "{'x': 4, 'y': 5}\n"
     ]
    }
   ],
   "source": [
    "def anyargs(*args, **kwargs):\n",
    "    print(args)\n",
    "    print(kwargs)\n",
    "\n",
    "anyargs(1, 'a', 3.0, x=4, y=5)"
   ]
  },
  {
   "cell_type": "markdown",
   "metadata": {},
   "source": [
    "### 7.1.3 讨论\n",
    "在函数定义中，以`*`打头的参数只能作为左后一个位置参数出现，而以`**`打头的参数只能作为最后一个参数出现。在以`*`打头的参数后仍然可以有其他的参数出现。但是这样的参数只能作为关键字参数使用，称为keyword-only参数。"
   ]
  },
  {
   "cell_type": "code",
   "execution_count": 9,
   "metadata": {},
   "outputs": [],
   "source": [
    "def a(x, *args, y):\n",
    "    pass\n",
    "\n",
    "def b(x, *args, y, **kwargs):\n",
    "    pass"
   ]
  },
  {
   "cell_type": "markdown",
   "metadata": {},
   "source": [
    "## 7.2 编写只接受关键字参数的函数\n",
    "### 7.2.1 解决方案\n",
    "将关键字参数放置在以`*`打头的参数或者是一个单独的`*`之后，就可以实现。示例如下，"
   ]
  },
  {
   "cell_type": "code",
   "execution_count": 10,
   "metadata": {},
   "outputs": [],
   "source": [
    "def recv(maxsize, *, block):\n",
    "    'Receive a message'\n",
    "    pass\n",
    "\n",
    "# recv(1024, True)    # TYpeERROR\n",
    "recv(1024, block=True)"
   ]
  },
  {
   "cell_type": "code",
   "execution_count": 11,
   "metadata": {},
   "outputs": [
    {
     "data": {
      "text/plain": [
       "0"
      ]
     },
     "execution_count": 11,
     "metadata": {},
     "output_type": "execute_result"
    }
   ],
   "source": [
    "# 为可接受任意数量的位置参数的函数指定关键字参数\n",
    "def mininum(*values, clip=None):\n",
    "    m = min(values)\n",
    "    if clip is not None:\n",
    "        m = clip if clip > m else m\n",
    "    return m\n",
    "\n",
    "mininum(1, 5, 2, -5, 10)    # Returns -5\n",
    "mininum(1, 5, 2, -5, 10, clip=0)    # Returns 0\n"
   ]
  },
  {
   "cell_type": "markdown",
   "metadata": {},
   "source": [
    "### 7.23 讨论\n",
    "当指定可选的函数参数时，keyword-only参数常常是一种提高代码可读性的好方法。比如，\n",
    "```python\n",
    "msg = recv(1024, block=False)\n",
    "```\n",
    "在有关`**kwargs`的技巧中，使用keyword-only参数常常是很可取的。"
   ]
  },
  {
   "cell_type": "markdown",
   "metadata": {},
   "source": [
    "## 7.3 将元数据信息附加到函数参数上\n",
    "### 7.3.1 问题\n",
    "已经编号了一个函数，但是希望能为参数附加上一些额外的信息，这样他人可以对函数的使用方法有更多的认识和了解。\n",
    "### 7.3.2 解决方案\n",
    "**函数的参数注解**可以提示程序员该函数应该如何使用，非常有帮助。比如说，考虑下面这个带参数注解的函数：\n",
    "\n",
    "Python解释器并不会附加任何语法意义到这些参数注解上。它们既不是类型检查也不会改变Python的行为。但是，参数注解会给其他阅读代码的有用的提示。一些第三方工具和框架可能也会为注解加上语法含义。这些注解也会出现在文档中。"
   ]
  },
  {
   "cell_type": "code",
   "execution_count": 13,
   "metadata": {},
   "outputs": [
    {
     "name": "stdout",
     "output_type": "stream",
     "text": [
      "Help on function add in module __main__:\n",
      "\n",
      "add(x: int, y: int) -> int\n",
      "\n"
     ]
    }
   ],
   "source": [
    "def add(x:int, y:int) -> int:\n",
    "    return x + y\n",
    "\n",
    "help(add)"
   ]
  },
  {
   "cell_type": "markdown",
   "metadata": {},
   "source": [
    "### 7.3.3 讨论\n",
    "函数注解只会保存在函数的`__annotations__`属性中。"
   ]
  },
  {
   "cell_type": "code",
   "execution_count": 14,
   "metadata": {},
   "outputs": [
    {
     "data": {
      "text/plain": [
       "{'x': int, 'y': int, 'return': int}"
      ]
     },
     "execution_count": 14,
     "metadata": {},
     "output_type": "execute_result"
    }
   ],
   "source": [
    "add.__annotations__"
   ]
  },
  {
   "cell_type": "markdown",
   "metadata": {},
   "source": [
    "## 7.4 从函数中返回多个值\n",
    "### 7.4.2 解决方案\n",
    "要从函数中返回多个值，只要简单地返回一个**元组**即可。\n",
    "\n",
    "但实际上它只是创建了一个元组而已。元组是通过逗号来组成的，而不是圆括号。\n",
    "\n",
    "当调用的函数返回了元组，通常会将结果赋值给多个变量，就像示例。实际上就是简单的元组解包。返回的值也可以只赋给一个单独的变量。"
   ]
  },
  {
   "cell_type": "code",
   "execution_count": 15,
   "metadata": {},
   "outputs": [
    {
     "name": "stdout",
     "output_type": "stream",
     "text": [
      "1 2 3\n"
     ]
    }
   ],
   "source": [
    "def myfunc():\n",
    "    return 1, 2, 3\n",
    "\n",
    "a, b, c = myfunc()\n",
    "print(a, b, c)"
   ]
  },
  {
   "cell_type": "code",
   "execution_count": 16,
   "metadata": {},
   "outputs": [
    {
     "data": {
      "text/plain": [
       "(1, 2, 3)"
      ]
     },
     "execution_count": 16,
     "metadata": {},
     "output_type": "execute_result"
    }
   ],
   "source": [
    "x = myfunc()\n",
    "x"
   ]
  },
  {
   "cell_type": "markdown",
   "metadata": {},
   "source": [
    "## 7.5 定义带有默认参数的函数\n",
    "### 7.5.1 问题\n",
    "想定义一个函数或者方法，其中有一个或多个参数是可选的并且带有默认值。\n",
    "### 7.5.2 解决方案\n",
    "表面上看定义一个带有可选参数的函数是非常简单的——只需要在定义中为参数赋值，并**确保默认参数出现在最后**即可。"
   ]
  },
  {
   "cell_type": "code",
   "execution_count": 17,
   "metadata": {},
   "outputs": [
    {
     "name": "stdout",
     "output_type": "stream",
     "text": [
      "1 42\n",
      "1 2\n"
     ]
    }
   ],
   "source": [
    "def spam(a, b=42):\n",
    "    print(a, b)\n",
    "\n",
    "spam(1)     # OK. a=1, b=42\n",
    "spam(1, 2)  # OK. a=1, b=2"
   ]
  },
  {
   "cell_type": "markdown",
   "metadata": {},
   "source": [
    "如果**默认值是可变容器的话，比如说列表、集合或者字典，那么应该把`None`作为默认值**，代码应该这样编写："
   ]
  },
  {
   "cell_type": "code",
   "execution_count": null,
   "metadata": {},
   "outputs": [],
   "source": [
    "# Using a list as a default value\n",
    "def spam(a, b=None):\n",
    "    if b is None:\n",
    "        b = []"
   ]
  },
  {
   "cell_type": "markdown",
   "metadata": {},
   "source": [
    "如果不打算提供一个默认值，只是想编写代码来检测可选参数是否被赋予了某个特定的值，可以采用下面的管用方法："
   ]
  },
  {
   "cell_type": "code",
   "execution_count": 18,
   "metadata": {},
   "outputs": [],
   "source": [
    "_no_value = object()\n",
    "\n",
    "def spam(a, b=_no_value):\n",
    "    if b is _no_value:\n",
    "        print('No b value supplied')"
   ]
  },
  {
   "cell_type": "code",
   "execution_count": 19,
   "metadata": {},
   "outputs": [
    {
     "name": "stdout",
     "output_type": "stream",
     "text": [
      "No b value supplied\n"
     ]
    }
   ],
   "source": [
    "spam(1)"
   ]
  },
  {
   "cell_type": "code",
   "execution_count": 21,
   "metadata": {},
   "outputs": [],
   "source": [
    "spam(1, 2)  # b = 2\n",
    "spam(1, None)   # b = None"
   ]
  },
  {
   "cell_type": "markdown",
   "metadata": {},
   "source": [
    "### 7.5.3 讨论\n",
    "定义带有默认参数的函数看似很容易，但其实并不然。\n",
    "首席按，对默认参数的赋值只会在函数定义的时候绑定一次。"
   ]
  },
  {
   "cell_type": "code",
   "execution_count": 22,
   "metadata": {},
   "outputs": [
    {
     "name": "stdout",
     "output_type": "stream",
     "text": [
      "1 42\n"
     ]
    }
   ],
   "source": [
    "x = 42\n",
    "def spam(a, b=x):\n",
    "    print(a, b)\n",
    "\n",
    "spam(1)"
   ]
  },
  {
   "cell_type": "code",
   "execution_count": 23,
   "metadata": {},
   "outputs": [
    {
     "name": "stdout",
     "output_type": "stream",
     "text": [
      "1 42\n"
     ]
    }
   ],
   "source": [
    "x = 23\n",
    "spam(1)"
   ]
  },
  {
   "cell_type": "markdown",
   "metadata": {},
   "source": [
    "注意到修改变量x的值(x被作为函数参数的默认值)并没有对函数产生任何效果。这是因为默认值已经在函数定义的时候就确定好了。\n",
    "\n",
    "其次，给默认参数赋值的应该总是不可变的对象，比如None, True, False，数字或者字符串。请注意绝对不要编写这样的代码：\n",
    "```python\n",
    "def spam(a, b=[]):   # NO!\n",
    "```\n",
    "如果这么做了就会陷入到各种麻烦之中。如果默认值在函数体之外被修改了，那么这种修改将在之后的函数调用中对参数的默认值产生持续的影像。示例如下："
   ]
  },
  {
   "cell_type": "code",
   "execution_count": 24,
   "metadata": {},
   "outputs": [],
   "source": [
    "def spam(a, b=[]):\n",
    "    print(b)\n",
    "    return b    # 返回默认参数(引用)，更改返回值会影响到默认参数值"
   ]
  },
  {
   "cell_type": "code",
   "execution_count": 25,
   "metadata": {},
   "outputs": [
    {
     "name": "stdout",
     "output_type": "stream",
     "text": [
      "[]\n"
     ]
    },
    {
     "data": {
      "text/plain": [
       "[]"
      ]
     },
     "execution_count": 25,
     "metadata": {},
     "output_type": "execute_result"
    }
   ],
   "source": [
    "x = spam(1)\n",
    "x"
   ]
  },
  {
   "cell_type": "code",
   "execution_count": 26,
   "metadata": {},
   "outputs": [
    {
     "data": {
      "text/plain": [
       "[99, 'YaHoo!']"
      ]
     },
     "execution_count": 26,
     "metadata": {},
     "output_type": "execute_result"
    }
   ],
   "source": [
    "x.append(99)\n",
    "x.append('YaHoo!')\n",
    "x"
   ]
  },
  {
   "cell_type": "code",
   "execution_count": 27,
   "metadata": {},
   "outputs": [
    {
     "name": "stdout",
     "output_type": "stream",
     "text": [
      "[99, 'YaHoo!']\n"
     ]
    },
    {
     "data": {
      "text/plain": [
       "[99, 'YaHoo!']"
      ]
     },
     "execution_count": 27,
     "metadata": {},
     "output_type": "execute_result"
    }
   ],
   "source": [
    "spam(1)     # Modified list gets returned!"
   ]
  },
  {
   "cell_type": "markdown",
   "metadata": {},
   "source": [
    "这可能不是所期望的结果。要避免出现这种问题，最好按照解决方案中的做法，使用`None`作为默认值并在函数体内增加一个对默认值的检查。\n",
    "\n",
    "当检查默认参数是否为`None`时，上示例的关键之处在于对`is`操作符的运用。有时人们会犯这样的错误：\n",
    "```python\n",
    "def spam(a, b=None):\n",
    "    if not b:       # NO! Use 'b is None' instead\n",
    "        b = []\n",
    "```\n",
    "这里出现的问题在于尽管`None`会被判定为`False`，可以还有许多其他的对象(比如长度为0的字符串、列表、元组、字典等)也存在这种行为。因此，上面的示例给出的条件检测会将某些特定的输入也判定为`False`，从而错误地忽略掉这些输入值。示例如下："
   ]
  },
  {
   "cell_type": "code",
   "execution_count": 28,
   "metadata": {},
   "outputs": [
    {
     "name": "stdout",
     "output_type": "stream",
     "text": [
      "OK\n",
      "OK\n",
      "OK\n",
      "OK\n"
     ]
    }
   ],
   "source": [
    "def spam(a, b=None):\n",
    "    if not b:\n",
    "        b = []\n",
    "        print('OK')\n",
    "\n",
    "spam(1)\n",
    "x = []\n",
    "spam(1, x)\n",
    "spam(1, 0)\n",
    "spam(1, '')\n"
   ]
  },
  {
   "cell_type": "markdown",
   "metadata": {},
   "source": [
    "在函数中检测是否对可选参数提供了某个特定值(可以是任意值)。这里最为棘手的地方在于不能用`None`, `0`或者`False`当作默认值来检测用户是否提供了参数(因为所有这些值都是完全合法的参数，用户极有可能将它们当作参数)。因此，需要用其他方法来检测。\n",
    "\n",
    "要解决这个问题，可以利用`object()`创建一个独特的私有示例，就像解决方案中给出的那样\n",
    "```python\n",
    "_no_value = object()\n",
    "\n",
    "def spam(a, b=_no_value):\n",
    "    if b is _no_value:\n",
    "        print('No b value supplied')\n",
    "```\n",
    "在函数中，可以用这个特殊值来同用户提供的参数做相等性检测，以此判断用户是否提供了参数。这里主要考虑到对于用户来说，把_no_value实例作为输入参数几乎是不可能的。\n",
    "\n",
    "这里用到的`object()`作为Python中几乎所有对象的基类而存在。可以创建`object`的实例，但是它们没有任何值得注意的方法，也没有任何实例数据，因此一般来说我们对它的是毫无兴趣的(因为底层缺少__dict__字典，甚至没法为它设置任何属性)。唯一可做的就是检测相等性。"
   ]
  },
  {
   "cell_type": "markdown",
   "metadata": {},
   "source": [
    "## 7.6 定义匿名或内联函数\n",
    "### 7.6.1 问题\n",
    "需要提供一个短小的回调函数为`sort()`这样的操作所用，但是又不想通过def语句编写一个单行的函数。相反，我们希望能有一种简便的方式来定义“内联”式的函数。\n",
    "### 7.6.2 解决方案\n",
    "像这种仅仅完成表达式求值的简单函数可以通过`lambda`表达式来替代。示例如下："
   ]
  },
  {
   "cell_type": "code",
   "execution_count": 29,
   "metadata": {},
   "outputs": [
    {
     "data": {
      "text/plain": [
       "5"
      ]
     },
     "execution_count": 29,
     "metadata": {},
     "output_type": "execute_result"
    }
   ],
   "source": [
    "add = lambda x, y: x + y\n",
    "add(2, 3)"
   ]
  },
  {
   "cell_type": "code",
   "execution_count": 30,
   "metadata": {},
   "outputs": [
    {
     "data": {
      "text/plain": [
       "'helloworld'"
      ]
     },
     "execution_count": 30,
     "metadata": {},
     "output_type": "execute_result"
    }
   ],
   "source": [
    "add('hello', 'world')"
   ]
  },
  {
   "cell_type": "markdown",
   "metadata": {},
   "source": [
    "这里用到的`lambda`表达式与下面的函数定义有着相同的功能：\n",
    "```python\n",
    "def add(a, y):\n",
    "    return x + y\n",
    "\n",
    "add(2, 3)   # 5\n",
    "```\n",
    "一般来说，`lambda`表达式可用在如下的上下文环境中，比如排序或者对数据进行整理时："
   ]
  },
  {
   "cell_type": "code",
   "execution_count": 31,
   "metadata": {},
   "outputs": [
    {
     "data": {
      "text/plain": [
       "['Ned Batchelder', 'David Beazley', 'Raymond Hettinger', 'Brain Jones']"
      ]
     },
     "execution_count": 31,
     "metadata": {},
     "output_type": "execute_result"
    }
   ],
   "source": [
    "names = ['David Beazley', 'Brain Jones', 'Raymond Hettinger', 'Ned Batchelder']\n",
    "sorted(names, key=lambda name: name.split()[-1].lower())"
   ]
  },
  {
   "cell_type": "markdown",
   "metadata": {},
   "source": [
    "### 7.6.3 讨论\n",
    "尽管`lambda`表达式允许定义简单的函数，但它的局限性也很大。具体来说，只能指定一条单独的表达式，这个表达式的结果就是函数的返回值。这意味着其他的语言特性比如多行语句、条件分支、迭代和异常处理统统都无法使用。"
   ]
  }
 ],
 "metadata": {
  "kernelspec": {
   "display_name": "Python 3.8.8 ('base')",
   "language": "python",
   "name": "python3"
  },
  "language_info": {
   "codemirror_mode": {
    "name": "ipython",
    "version": 3
   },
   "file_extension": ".py",
   "mimetype": "text/x-python",
   "name": "python",
   "nbconvert_exporter": "python",
   "pygments_lexer": "ipython3",
   "version": "3.8.8"
  },
  "orig_nbformat": 4,
  "vscode": {
   "interpreter": {
    "hash": "8967b6ecdc3a387f4ee01c8c6ec3fd3c2fc0d54335c2d6cf895885a0f9327229"
   }
  }
 },
 "nbformat": 4,
 "nbformat_minor": 2
}
